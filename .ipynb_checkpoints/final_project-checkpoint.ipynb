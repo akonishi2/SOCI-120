{
 "cells": [
  {
   "cell_type": "markdown",
   "metadata": {},
   "source": [
    "# Agent-Based Model of Moving Based on Race and Income and Moving Based on Residence Length"
   ]
  },
  {
   "cell_type": "markdown",
   "metadata": {},
   "source": [
    "### Aya Konishi"
   ]
  },
  {
   "cell_type": "markdown",
   "metadata": {},
   "source": [
    "## Introduction"
   ]
  },
  {
   "cell_type": "markdown",
   "metadata": {},
   "source": [
    "It is readily apparent that residential segregation is a problem in the United States (U.S.), as it increases income inequalities, health disparities, and educational inequalities (Popescu et al, 2018; Rothstein, 2014). As indicated in the book, *The Color of Law*, by Richard Rothstein, residential segregation was manufactured by the U.S. government on the state, federal, and county levels, through discriminatory laws that forced people of color to live in specific areas (Rothstein, 2017). It is vitally important to reverse the effects of these practices, as their effects are still evident today.\n",
    "\n",
    "We will use an agent-based model to study the differences in residential segregation when agents decide to move based on the race of their current or future neighbors (and their own income), and when agents decide to move based on the communal trust within potential neighborhoods (and their own income). This project will incorporate findings from qualitative and quantitative data from various papers. We will feed these findings into the agent-based model, hopefully combining observations about society into a research method grounded in data.\n",
    "\n",
    "Although integration might have negative consequences (i.e. gentrification), on the whole, it is considered to be positive, and overall promotes equality (Popescu et al, 2018). Thus, we will attempt uncover an alternative way (that discourages segregation) of selecting a neighborhood to live in through an agent-based model. Agent-based models simulate the activities of people by treating each person as an \"agent\" that behaves according to a decision policy that usually depends on their surroundings. "
   ]
  },
  {
   "cell_type": "markdown",
   "metadata": {},
   "source": [
    "## Contribution to Existing Research and Methods"
   ]
  },
  {
   "cell_type": "markdown",
   "metadata": {},
   "source": [
    "Though many scholars have studied segregation through an agent-based model, few have studied the effect of changing decision policies to promote integration (Bruch and Mare, 2006; Crooks, 2010; Eckerd et al, 2013). Most notably, Schelling created an agent-based model of segregation, where agents chose to move if there were a certain number of agents of a different race in their neighborhood (Schelling, 1978). Schelling's model of segregation became well-known in the literature, as it showed that even a small \"threshold\" (i.e. if I have x number of people of race A next to me, I will move, and otherwise stay) lead to stark segregation among agents. In this project, we will compare different decision policies (one based on race, and one based on the communal trust of the neighborhood), and see whether it affects segregation."
   ]
  },
  {
   "cell_type": "markdown",
   "metadata": {},
   "source": [
    "## Methods"
   ]
  },
  {
   "cell_type": "markdown",
   "metadata": {},
   "source": [
    "For my code, I used the [Mesa package](https://mesa.readthedocs.io/en/master/) for Python, which implements an agent-based model. The agents occupy cells in a grid formation, where each cell contains at most one agent.\n",
    "\n",
    "First, we will demonstrate that selecting a place to live based on the race of the surrounding people (and the income of an agent) will result in a segregated population. We consider this to be the \"traditional\" way of deciding where to live (of course, social obligations, job location, and other factors play a role in this). The majority of whites will move from neighborhoods that are more than 20% Black, and the majority of Blacks prefer a neighborhood that is at least 50% Black, so the \"traditional\" model is grounded in evidence (Bruch and Mare 2006). Bruch and Mare found that a non-continuous threshold function (related to race) might not be an accurate representation of the actual decision policy that people have (as they compared the model to empirical data). They proposed that the decision policy for deciding where to live could be more related to the financial restraints that make it difficult for people to move, even if they don't like their neighborhood, and this could take the form of a threshold function. Since race and income are highly correlated, they concluded that a threshold function could be a good way of measuring a decision policy of an agent, just not solely because they decide to move based on race. Thus, we will encode income and race into the decision policy of an agent in the \"traditional\" model, and we will use a threshold function for their decision policy.\n",
    "\n",
    "Then, we will investigate whether changing decision making to be based on the communal trust within a neighborhood will change the levels of segregation. It has been found that the length of residence in a neighborhood is associated with social support and a higher incidence of interpersonal ties (Kasarda and Janowitz, 1974; Siordia and Saenz, 2013; Keene et al, 2013). Therefore, we can use the length of residence in a neighborhood as a crude proxy for communal trust in a neighborhood. The length of residence can be easily determined with an agent-based model, so it is a good way of measuring communal trust in this model. In my model, I had agents decide to move if they earned more than $50,000 a year. They looked at a maximum of five empty locations to see if the neighbors there had on average lived there longer than their own neighbors had lived in their own neighborhood. If none of the five locations satisfied this condition, they just chose the fifth location to move to.\n",
    "\n",
    "We will define a neighborhood as the Moore neighborhood, where the 8 cells around the cell are the neighbors. The image below has the blue cell as the cell in question, and the red cells as the neighbors.\n",
    "\n",
    "My code can be run on a server, which can be found on [Github](https://github.com/akonishi2/SOCI-120). "
   ]
  },
  {
   "cell_type": "code",
   "execution_count": 1,
   "metadata": {},
   "outputs": [],
   "source": [
    "# import packages: numpy, mesa, random, pandas\n",
    "\n",
    "from mesa import Agent, Model\n",
    "from mesa.time import RandomActivation\n",
    "from mesa.datacollection import DataCollector\n",
    "import numpy as np\n",
    "import random\n",
    "from mesa.space import SingleGrid\n",
    "import pandas\n",
    "from IPython.display import display, Image, Video\n",
    "import matplotlib.pyplot as plt\n",
    "from Traditional import TradModel\n",
    "from New import NewModel"
   ]
  },
  {
   "cell_type": "code",
   "execution_count": 4,
   "metadata": {},
   "outputs": [
    {
     "data": {
      "image/png": "[encoded data removed]",
      "text/plain": [
       "<IPython.core.display.Image object>"
      ]
     },
     "metadata": {},
     "output_type": "display_data"
    }
   ],
   "source": [
    "i = Image(filename='moore_neighborhood.png')\n",
    "display(i)"
   ]
  },
  {
   "cell_type": "markdown",
   "metadata": {},
   "source": [
    "## \"Traditional Lens\": Move based on Race"
   ]
  },
  {
   "cell_type": "markdown",
   "metadata": {},
   "source": [
    "For simplicity, we will only consider agent races of Black and white. We assign an income to agents of each race according to an income distribution used by Eckerd *et al*, where white people have an income distribution with mean \\\\$54,000 and standard deviation \\\\$41,000. Black people have an income distribution with mean \\\\$32,000 and standard deviation \\\\$40,000. Below is the code that implements the class for the Traditional Agent. In this model, agents can only move if they earn more than \\\\$50,000 a year. If they are white, they move if the percentage of similar neighbors is less than 75\\%, and if they are Black, they move if the percentage of similar neighbors is less than 50\\%. \n",
    "\n",
    "We encode both agent attributes and model attributes:\n",
    "\n",
    "__Agent__:\n",
    "* _agent_type_ - if this is 1, then the agent is white, and if this is 0, then the agent is Black\n",
    "* _income_ - this is the agent's income, distributed as described above\n",
    "* _happy_ - if 1, then the agent doesn't move during this step, if 0 then the agent moves during this step\n",
    "\n",
    "__Model__:\n",
    "* _schedule_ - this is the \"schedule\" of the model, meaning that it controls when agents are called upon to act, and when.\n",
    "* _grid_ - this creates the grid on which the agents move (and determines the size of it)\n",
    "* _num_agents_ - this is the number of agents in the simulation\n",
    "* _datacollector_ - this collects data on the agents (i.e. where they are, whether they are happy)\n",
    "* _happy_ - this is the average number of happy agents at a given step in the simulation\n",
    "* _similar_ - this is the average of the number of similar (same *agent_type*) neighbors per agent\n",
    "* _running_ - this determines whether the simulation is paused or running"
   ]
  },
  {
   "cell_type": "code",
   "execution_count": 14,
   "metadata": {},
   "outputs": [],
   "source": [
    "# Agents who follow the traditional lens: move based on race, income\n",
    "class TradAgent(Agent):\n",
    "    # Initialization\n",
    "    def __init__(self, unique_id, model, agent_type, income):\n",
    "        super().__init__(unique_id, model)\n",
    "        self.agent_type = agent_type\n",
    "        self.income = income\n",
    "        self.happy = 0\n",
    "        self.residence_length = 0\n",
    "        \n",
    "    # Step function\n",
    "    def step(self):\n",
    "        similar = 0\n",
    "        # Calculate the number of similar neighbors (Moore neighborhoods)\n",
    "        for neighbor in self.model.grid.neighbor_iter(self.pos, moore=True):\n",
    "            if neighbor.agent_type == self.agent_type:\n",
    "                similar += 1\n",
    "        similar_percentage = similar/8\n",
    "        self.model.similar += similar_percentage\n",
    "       \n",
    "        # If they are rich enough and are unhappy, they can move\n",
    "        if (self.agent_type == 1 and similar_percentage < 0.75 and self.income > 50000):\n",
    "                self.model.grid.move_to_empty(self)\n",
    "                self.happy = 0\n",
    "                self.residence_length = 0\n",
    "        elif (self.agent_type == 0 and similar_percentage < 0.5 and self.income > 50000):\n",
    "                self.model.grid.move_to_empty(self)\n",
    "                self.happy = 0\n",
    "                self.residence_length = 0\n",
    "        else:\n",
    "            # otherwise, they are happy\n",
    "            self.happy = 1\n",
    "            self.model.happy += 1\n",
    "            self.residence_length += 1\n",
    "\n",
    "# Model for traditional agents\n",
    "class TradModel(Model):\n",
    "    def __init__(self, width, height, num_agents):\n",
    "        self.schedule = RandomActivation(self)\n",
    "        self.grid = SingleGrid(width, height, torus = True)\n",
    "        self.num_agents = num_agents\n",
    "        # to collect info about how many agents are happy, average similarity of neighbors\n",
    "        self.datacollector = DataCollector(model_reporters = {\"Happy\": lambda m: m.happy, \"Similar\": lambda m: m.similar},\n",
    "            agent_reporters = {\"x\": lambda a: a.pos[0], \"y\": lambda a: a.pos[1]})\n",
    "        self.happy = 0\n",
    "        self.similar = 0\n",
    "        self.running = True\n",
    "        \n",
    "        for i in range(self.num_agents):\n",
    "          \n",
    "            # white\n",
    "            if random.random() < 0.70:\n",
    "                agent_type = 1\n",
    "                income = np.random.normal(54000, 41000)\n",
    "            \n",
    "            # black\n",
    "            else:\n",
    "                agent_type = 0\n",
    "                income = np.random.normal(32000, 40000)\n",
    "\n",
    "            # create agents\n",
    "            agent = TradAgent(i, self, agent_type, income)\n",
    "            self.schedule.add(agent)\n",
    "            \n",
    "            # coords of the initial locations of the agents\n",
    "            x = self.random.randrange(self.grid.width)\n",
    "            y = self.random.randrange(self.grid.height)\n",
    "\n",
    "            self.grid.position_agent(agent, (x, y))\n",
    "    def step(self):\n",
    "        '''Advance the model by one step.'''\n",
    "\n",
    "        self.happy = 0\n",
    "        self.schedule.step()\n",
    "        #take the average of the similarity\n",
    "        self.similar /= self.num_agents\n",
    "        self.datacollector.collect(self)\n",
    "       \n",
    "        # stop model if all of the agents are happy\n",
    "        if self.happy == self.schedule.get_agent_count():\n",
    "            self.running = False"
   ]
  },
  {
   "cell_type": "markdown",
   "metadata": {},
   "source": [
    "Below is a video of the simulation run on the server. This is the traditional model. The blue agents represent Black people, and the red agents represent white people. It is apparent that the agents quickly segregate themselves through this model; it is unsurprising, as their behavior depends on the races of their neighbors."
   ]
  },
  {
   "cell_type": "code",
   "execution_count": 4,
   "metadata": {},
   "outputs": [
    {
     "data": {
      "text/html": [
       "<video src=\"trad_model.mov\" controls  >\n",
       "      Your browser does not support the <code>video</code> element.\n",
       "    </video>"
      ],
      "text/plain": [
       "<IPython.core.display.Video object>"
      ]
     },
     "metadata": {},
     "output_type": "display_data"
    }
   ],
   "source": [
    "video = Video('trad_model.mov')\n",
    "display(video)"
   ]
  },
  {
   "cell_type": "markdown",
   "metadata": {},
   "source": [
    "## \"New\" Lens: Move Based on Neighborhood Trust (length of residence)"
   ]
  },
  {
   "cell_type": "markdown",
   "metadata": {},
   "source": [
    "Similarly to the traditional model, for simplicity, we will only consider agent races of Black and white. We assign an income to agents of each race according to an income distribution used by Eckerd *et al*, where white people have an income distribution with mean \\\\$54,000 and standard deviation \\\\$41,000. Black people have an income distribution with mean \\\\$32,000 and standard deviation \\\\$40,000. In this model, agents will only move if they earn more than \\\\$50,000 a year and if their neighbors have lived less in the neighborhood than the average residence length of the entire population. Agents will attempt to (by looking at five random empty locations) move to a neighborhood that has a higher average residence length than their own neighborhood. If they cannot find such a location in five steps, they will just move to the fifth location.\n",
    "\n",
    "We encode both agent attributes and model attributes:\n",
    "\n",
    "__Agent__:\n",
    "* _agent_type_ - if this is 1, then the agent is white, and if this is 0, then the agent is Black\n",
    "* _income_ - this is the agent's income, distributed as described above\n",
    "* _residence_length_ - this is how many steps the agent has stayed in the same cell for \n",
    "* _neighbor_residence_ - this is the average of the steps the neighbors have been in their cells for\n",
    "* _happy_ - if 1, then the agent doesn't move during this step, if 0 then the agent moves during this step\n",
    "\n",
    "__Model__:\n",
    "* _schedule_ - this is the \"schedule\" of the model, meaning that it controls when agents are called upon to act, and when.\n",
    "* _grid_ - this creates the grid on which the agents move (and determines the size of it)\n",
    "* _num_agents_ - this is the number of agents in the simulation\n",
    "* _datacollector_ - this collects data on the agents (i.e. where they are, whether they are happy, the similarity, the residence length)\n",
    "* _avg_residence_ - this is the average length that each agent has stayed in their current location\n",
    "* _happy_ - this is the average number of happy agents at a given step in the simulation\n",
    "* _similar_ - this is the average of the number of similar (same *agent_type*) neighbors per agent\n",
    "* _running_ - this determines whether the simulation is paused or running"
   ]
  },
  {
   "cell_type": "code",
   "execution_count": 15,
   "metadata": {},
   "outputs": [],
   "source": [
    "# Agents who follow the new lens:\n",
    "# move based on length of residence, a proxy for trust within a neighborhood\n",
    "class NewAgent(Agent):\n",
    "     # Initialization\n",
    "    def __init__(self, unique_id, model, agent_type, income):\n",
    "        super().__init__(unique_id, model)\n",
    "        self.agent_type = agent_type\n",
    "        self.income = income\n",
    "        self.residence_length = 0\n",
    "        self.neighbor_residence = 0\n",
    "        self.happy = 0\n",
    "        \n",
    "    def calculate_similar(self):\n",
    "        similar = 0\n",
    "        # Calculate the number of similar neighbors (Moore neighborhoods)\n",
    "        for neighbor in self.model.grid.neighbor_iter(self.pos, moore=True):\n",
    "            if neighbor.agent_type == self.agent_type:\n",
    "                similar += 1\n",
    "        # percentage of similar neighbors\n",
    "        similar_percentage = similar/8\n",
    "        # add these together (and make it a model variable) we will divide by the number of agents later (take the average)\n",
    "        self.model.similar += similar_percentage\n",
    "        return self.model.similar\n",
    "    \n",
    "    def calculate_residence(self):\n",
    "        self.neighbor_residence = 0\n",
    "        for neighbor in self.model.grid.neighbor_iter(self.pos, moore=True):\n",
    "            # calculate the residence length of the neighbors\n",
    "            self.neighbor_residence += neighbor.residence_length\n",
    "        # take the average of the residence length of the neighbors\n",
    "        self.neighbor_residence = self.neighbor_residence/8\n",
    "        \n",
    "    def new_move(self):\n",
    "        counter = 0\n",
    "        while True:\n",
    "            new_pos = self.model.grid.find_empty()\n",
    "            neighbor_residence = 0\n",
    "            for neighbor in self.model.grid.neighbor_iter(new_pos, moore=True):\n",
    "                # calculate the residence length of the neighbors\n",
    "                neighbor_residence += neighbor.residence_length\n",
    "            # take the average of the residence length of the neighbors\n",
    "            neighbor_residence = neighbor_residence/8\n",
    "            \n",
    "            counter = counter + 1\n",
    "            \n",
    "            # move anyways if you have looked in 5 spots \n",
    "            if (counter > 5):\n",
    "                break\n",
    "            if (neighbor_residence > self.neighbor_residence):\n",
    "                break\n",
    "           \n",
    "         \n",
    "        self.model.grid._place_agent(new_pos, self)\n",
    "        self.model.grid._remove_agent(self.pos, self)\n",
    "        self.pos = new_pos\n",
    "\n",
    "        \n",
    "    # Step function\n",
    "    def step(self):\n",
    "        self.calculate_similar()\n",
    "        self.calculate_residence()\n",
    "       \n",
    "        # If they are rich enough, they can move\n",
    "        if (self.income > 50000 and self.neighbor_residence < self.model.avg_residence):\n",
    "            self.residence_length = 0\n",
    "            self.new_move()\n",
    "            self.happy = 0\n",
    "        else:\n",
    "            self.happy = 1\n",
    "            self.model.happy += 1\n",
    "            self.residence_length += 1\n",
    "            self.model.avg_residence += self.residence_length\n",
    "\n",
    "# Model for new agents\n",
    "class NewModel(Model):\n",
    "    def __init__(self, width, height, num_agents):\n",
    "        self.schedule = RandomActivation(self)\n",
    "        self.grid = SingleGrid(width, height, torus = True)\n",
    "        self.num_agents = num_agents\n",
    "        \n",
    "        # to collect info about how many agents are happy, average similarity of neighbors, length of residence\n",
    "        self.datacollector = DataCollector(model_reporters = {\"Happy\": lambda m: m.happy, \"Similar\": lambda m: m.similar, \"Residence\": lambda m: m.avg_residence}, agent_reporters = {\"x\": lambda a: a.pos[0], \"y\": lambda a: a.pos[1]})\n",
    "        \n",
    "        self.avg_residence = 0\n",
    "        self.happy = 0\n",
    "        self.similar = 0\n",
    "        self.running = True\n",
    "        \n",
    "        for i in range(self.num_agents):   \n",
    "            # white\n",
    "            if random.random() < 0.70:\n",
    "                agent_type = 1\n",
    "                income = np.random.normal(54000, 41000)\n",
    "            \n",
    "            # black\n",
    "            else:\n",
    "                agent_type = 0\n",
    "                income = np.random.normal(32000, 40000)\n",
    "\n",
    "            # add new agents\n",
    "            agent = NewAgent(i, self, agent_type, income)\n",
    "            self.schedule.add(agent)\n",
    "            \n",
    "            # assign the initial coords of the agents\n",
    "            x = self.random.randrange(self.grid.width)\n",
    "            y = self.random.randrange(self.grid.height)\n",
    "\n",
    "            self.grid.position_agent(agent, (x, y))\n",
    "            \n",
    "    def step(self):\n",
    "        '''Advance the model by one step.'''\n",
    "\n",
    "        self.happy = 0\n",
    "        self.schedule.step()\n",
    "        # get the average similarity\n",
    "        self.similar /= self.num_agents\n",
    "        # get the average length of residence\n",
    "        self.avg_residence /= self.num_agents\n",
    "        self.datacollector.collect(self)\n",
    "       \n",
    "        if self.happy == self.schedule.get_agent_count():\n",
    "            self.running = False"
   ]
  },
  {
   "cell_type": "markdown",
   "metadata": {},
   "source": [
    "Below is a video of the simulation run on the server. This is the new model. As with the Traditional Model, the blue agents represent Black people, and the red agents represent white people. We can see that the agents don't segregate very much, if at all, especially when comparing the beginning and end of the simulation."
   ]
  },
  {
   "cell_type": "code",
   "execution_count": 33,
   "metadata": {},
   "outputs": [
    {
     "data": {
      "text/html": [
       "<video src=\"new_model.mov\" controls  >\n",
       "      Your browser does not support the <code>video</code> element.\n",
       "    </video>"
      ],
      "text/plain": [
       "<IPython.core.display.Video object>"
      ]
     },
     "metadata": {},
     "output_type": "display_data"
    }
   ],
   "source": [
    "video = Video('new_model.mov')\n",
    "display(video)"
   ]
  },
  {
   "cell_type": "code",
   "execution_count": 2,
   "metadata": {},
   "outputs": [],
   "source": [
    "num_steps = 100\n",
    "population = 2125"
   ]
  },
  {
   "cell_type": "code",
   "execution_count": 3,
   "metadata": {},
   "outputs": [
    {
     "name": "stdout",
     "output_type": "stream",
     "text": [
      "1463\n",
      "662\n"
     ]
    }
   ],
   "source": [
    "trad_model = TradModel(50,50,population)\n",
    "similar_trad = np.zeros(num_steps)\n",
    "happy_trad_1 = np.zeros(num_steps)\n",
    "happy_trad_0 = np.zeros(num_steps)\n",
    "white_count_trad = np.count_nonzero([a.agent_type for a in trad_model.schedule.agents])\n",
    "black_count_trad = population - white_count_trad\n",
    "print(white_count_trad)\n",
    "print(black_count_trad)"
   ]
  },
  {
   "cell_type": "code",
   "execution_count": 4,
   "metadata": {},
   "outputs": [],
   "source": [
    "for i in range(num_steps):\n",
    "    similar_trad[i] = trad_model.similar\n",
    "    happy_trad_1[i] = np.count_nonzero([a.happy for a in trad_model.schedule.agents if a.agent_type == 1])\n",
    "    happy_trad_0[i] = np.count_nonzero([a.happy for a in trad_model.schedule.agents if a.agent_type == 0])\n",
    "    trad_model.step()"
   ]
  },
  {
   "cell_type": "code",
   "execution_count": 12,
   "metadata": {},
   "outputs": [
    {
     "data": {
      "text/plain": [
       "Text(0.5, 1.0, 'The Fraction of Happy Agents Among White and Black Agents (Traditional Model)')"
      ]
     },
     "execution_count": 12,
     "metadata": {},
     "output_type": "execute_result"
    },
    {
     "data": {
      "image/png": "[encoded data removed]",
      "text/plain": [
       "<Figure size 432x288 with 1 Axes>"
      ]
     },
     "metadata": {
      "needs_background": "light"
     },
     "output_type": "display_data"
    }
   ],
   "source": [
    "plt.plot(range(num_steps), happy_trad_1/white_count_trad, label = \"White People\")\n",
    "plt.plot(range(num_steps), happy_trad_0/black_count_trad, label = \"Black People\")\n",
    "plt.legend()\n",
    "plt.xlabel(\"Number of Steps\")\n",
    "plt.ylabel(\"Fraction of Happy Agents\")\n",
    "plt.title(\"The Fraction of Happy Agents Among White and Black Agents (Traditional Model)\")"
   ]
  },
  {
   "cell_type": "markdown",
   "metadata": {},
   "source": [
    "We can see that in the Traditional Model, almost all Black agents become happy by the end of the simulation. However, only 80% of the white agents are happy by the end. This is because whites on average have more money, so they are able to move more. They also have stricter preferences in terms of the race of their neighbors. This means that by around step 50, only white agents are still moving around, as almost all of the Black agents are \"happy\"."
   ]
  },
  {
   "cell_type": "code",
   "execution_count": 11,
   "metadata": {},
   "outputs": [
    {
     "name": "stdout",
     "output_type": "stream",
     "text": [
      "1493\n",
      "632\n"
     ]
    }
   ],
   "source": [
    "new_model = NewModel(50,50,population)\n",
    "similar_new = np.zeros(num_steps)\n",
    "happy_new_1 = np.zeros(num_steps)\n",
    "happy_new_0 = np.zeros(num_steps)\n",
    "white_count_new = np.count_nonzero([a.agent_type for a in new_model.schedule.agents])\n",
    "black_count_new = population - white_count_new\n",
    "print(white_count_new)\n",
    "print(black_count_new)"
   ]
  },
  {
   "cell_type": "code",
   "execution_count": 12,
   "metadata": {},
   "outputs": [],
   "source": [
    "for i in range(num_steps):\n",
    "    similar_new[i] = new_model.similar\n",
    "    happy_new_1[i] = np.count_nonzero([a.happy for a in new_model.schedule.agents if a.agent_type == 1])\n",
    "    happy_new_0[i] = np.count_nonzero([a.happy for a in new_model.schedule.agents if a.agent_type == 0])\n",
    "    new_model.step()"
   ]
  },
  {
   "cell_type": "code",
   "execution_count": 30,
   "metadata": {},
   "outputs": [
    {
     "data": {
      "text/plain": [
       "Text(0.5, 1.0, 'The Fraction of Happy Agents Among White and Black Agents (New Model)')"
      ]
     },
     "execution_count": 30,
     "metadata": {},
     "output_type": "execute_result"
    },
    {
     "data": {
      "image/png": "[encoded data removed]",
      "text/plain": [
       "<Figure size 432x288 with 1 Axes>"
      ]
     },
     "metadata": {
      "needs_background": "light"
     },
     "output_type": "display_data"
    }
   ],
   "source": [
    "plt.plot(range(num_steps), happy_new_1/white_count_new, label = \"White People\")\n",
    "plt.plot(range(num_steps), happy_new_0/black_count_new, label = \"Black People\")\n",
    "plt.legend()\n",
    "plt.xlabel(\"Number of Steps\")\n",
    "plt.ylabel(\"Fraction of Happy Agents\")\n",
    "plt.title(\"The Fraction of Happy Agents Among White and Black Agents (New Model)\")"
   ]
  },
  {
   "cell_type": "markdown",
   "metadata": {},
   "source": [
    "We can see that the fraction of happy agents in the New Model stays essentially constant. On average, people are less \"happy\" than with the traditional model, as around 65% of Black agents are happy, and 45% of white agents are happy. This, again is apparent because white agents are able to move more (as they are wealthier than Black agents), nad since they move more, their neighbors are not necessarily in the neighborhood for very long. However, as we see in the next plot, this means that there is less segregation."
   ]
  },
  {
   "cell_type": "code",
   "execution_count": 31,
   "metadata": {},
   "outputs": [
    {
     "data": {
      "text/plain": [
       "Text(0.5, 1.0, 'Average Fraction of Similar Neighbors per Timestep')"
      ]
     },
     "execution_count": 31,
     "metadata": {},
     "output_type": "execute_result"
    },
    {
     "data": {
      "image/png": "[encoded data removed]",
      "text/plain": [
       "<Figure size 432x288 with 1 Axes>"
      ]
     },
     "metadata": {
      "needs_background": "light"
     },
     "output_type": "display_data"
    }
   ],
   "source": [
    "plt.plot(range(num_steps), similar_trad, label = \"Traditional Model\")\n",
    "plt.plot(range(num_steps), similar_new, label = \"New Model\")\n",
    "plt.legend()\n",
    "plt.xlabel(\"Number of Steps\")\n",
    "plt.ylabel(\"Average Fraction of Similar Neighbors\")\n",
    "plt.title(\"Average Fraction of Similar Neighbors per Timestep\")"
   ]
  },
  {
   "cell_type": "code",
   "execution_count": 17,
   "metadata": {},
   "outputs": [
    {
     "name": "stdout",
     "output_type": "stream",
     "text": [
      "0.6229983105323016\n",
      "0.5171236560909566\n"
     ]
    }
   ],
   "source": [
    "print(max(similar_trad))\n",
    "print(max(similar_new))"
   ]
  },
  {
   "cell_type": "markdown",
   "metadata": {},
   "source": [
    "We can see that the Traditional Model stabilizes at around an average of 63% similarity within the neighborhood of an agent. The New Model stabilizes at around 50% similarity. Thus, we can see that moving based on neighborhood trust could reduce segregation. 50% similarity seems to be as low as you can get in terms of segregation, as there are only two races in this simulation. However, the Traditional Model has an average of only 63%, which is not very high (considering the average similarity should range from about 50% to 100%). Considering this, the New Model is really only a slight improvement to the Traditional Model. "
   ]
  },
  {
   "cell_type": "code",
   "execution_count": 8,
   "metadata": {},
   "outputs": [
    {
     "data": {
      "text/plain": [
       "Text(0.5, 1.0, 'Residence Length of Agents after 100 Timesteps for the Traditional Model')"
      ]
     },
     "execution_count": 8,
     "metadata": {},
     "output_type": "execute_result"
    },
    {
     "data": {
      "image/png": "[encoded data removed]",
      "text/plain": [
       "<Figure size 432x288 with 1 Axes>"
      ]
     },
     "metadata": {
      "needs_background": "light"
     },
     "output_type": "display_data"
    }
   ],
   "source": [
    "trad_len_1 = [a.residence_length for a in trad_model.schedule.agents if a.agent_type == 1]\n",
    "trad_len_0 = [a.residence_length for a in trad_model.schedule.agents if a.agent_type == 0]\n",
    "\n",
    "plt.hist(trad_len_1, label = \"White People\")\n",
    "plt.hist(trad_len_0, label = \"Black People\")\n",
    "plt.legend()\n",
    "plt.xlabel(\"Residence Length\")\n",
    "plt.ylabel(\"Number of Agents\")\n",
    "plt.ylim(top = 900)\n",
    "plt.title(\"Residence Length of Agents after 100 Timesteps for the Traditional Model\")"
   ]
  },
  {
   "cell_type": "markdown",
   "metadata": {},
   "source": [
    "In the Traditional Model, we can see that around a third of the white agents move every timestep, and around two-thirds of them stay where they are from the beginning. Almost all Black students stay in the same place that they started at. This shows that Black agents probably have more stability than white agents in their neighborhoods. This might represent reality accurately, as the phenomenon of \"White Flight\" involves whites moving away from integrated neighborhoods. Whites are more able to move, as they do not face housing discrimination, and usually don't lack the funds to move. "
   ]
  },
  {
   "cell_type": "code",
   "execution_count": 13,
   "metadata": {},
   "outputs": [
    {
     "data": {
      "text/plain": [
       "Text(0.5, 1.0, 'Residence Length of Agents after 100 Timesteps for the New Model')"
      ]
     },
     "execution_count": 13,
     "metadata": {},
     "output_type": "execute_result"
    },
    {
     "data": {
      "image/png": "[encoded data removed]",
      "text/plain": [
       "<Figure size 432x288 with 1 Axes>"
      ]
     },
     "metadata": {
      "needs_background": "light"
     },
     "output_type": "display_data"
    }
   ],
   "source": [
    "new_len_1 = [a.residence_length for a in new_model.schedule.agents if a.agent_type == 1]\n",
    "new_len_0 = [a.residence_length for a in new_model.schedule.agents if a.agent_type == 0]\n",
    "\n",
    "plt.hist(new_len_1, label = \"White People\")\n",
    "plt.hist(new_len_0, label = \"Black People\")\n",
    "plt.legend()\n",
    "plt.xlabel(\"Residence Length\")\n",
    "plt.ylabel(\"Number of Agents\")\n",
    "plt.ylim(top = 900)\n",
    "plt.title(\"Residence Length of Agents after 100 Timesteps for the New Model\")"
   ]
  },
  {
   "cell_type": "markdown",
   "metadata": {},
   "source": [
    "Looking at this plot, we can see that overall, agents that move will keep moving for the rest of the timesteps. The only values that the agents take for residence length are 0 or 100. It seems that Black agents are more likely to stay where they started out (only around a third of them move). White agents are slightly more likely to keep moving than to stay where they started out. This seems like a good balance of moving v.s. staying, as whites are more likely to have the funds to move often, and many are privileged enough to not experience discrimination that discourages social mobility."
   ]
  },
  {
   "cell_type": "markdown",
   "metadata": {},
   "source": [
    "## Conclusion\n",
    "\n",
    "In conclusion, implementing an agent-based model to simulate where people choose to live was mostly successful. Many assumptions were made in the creation of the model that were based on findings from the existing literature. Throughout this project, I realized that making simple assumptions on how agents behave drastically change the behavior of the group. This is what Schelling originally found, and is why his findings are striking even now. I don't think that we can conclude just from this project that moving based on the communal trust (or the length of residence in a neighborhood) will reduce segregation, but it shows that there could be merit in changing decision making in this way. Perhaps an online real estate database company such as Zillow could display the average length of residence in the neighborhood on each home's profile. \n",
    "\n",
    "Considering the connection between data and society and the results of this project, I believe that using agent-based models more widely could be productive in reducing the buying and selling of data and the lack of data privacy. Using an agent-based model is very uninvasive as it doesn't really use the data of real people; it only uses this in its assumptions, but this is usually completely anonymous or averaged data. "
   ]
  },
  {
   "cell_type": "markdown",
   "metadata": {},
   "source": [
    "## References\n",
    "\n",
    "Downey, A. B. (2012). Think Complexity. Newton: O’Reilly Media.\n",
    "\n",
    "Kasarda, J. D., & Janowitz, M. (1974). Community attachment in mass society. American Sociological Review, 39, 328-39. doi:10.2307/2094293\n",
    "\n",
    "Keene, D., Bader, M., & Ailshire, J. (2013). Length of residence and social integration: the contingent effects of neighborhood poverty. Health & place, 21, 171–178. https://doi.org/10.1016/j.healthplace.2013.02.002\n",
    "\n",
    "Popescu I, Duffy E, Mendelsohn J, Escarce JJ. (2018). Racial residential segregation, socioeconomic disparities, and the White-Black survival gap. PLOS ONE 13(2): e0193222. https://doi.org/10.1371/journal.pone.0193222\n",
    "\n",
    "Rothstein, Richard. (2014). The Racial Achievement Gap, Segregated Schools, and Segregated Neighborhoods: A Constitutional Insult. Race and Social Problems. 7. 21-30. 10.1007/s12552-014-9134-1.\n",
    "\n",
    "Schelling, T. C. (1978). Micromotives and macrobehavior. New York: Norton. \n",
    "\n",
    "Siordia, C., & Saenz, J. (2013). On the Relationship Between Neighborhood Perception, Length of Residence and Co-Ethnic Concentration. Applied spatial analysis and policy, 6(4), 267–284. https://doi.org/10.1007/s12061-013-9084-9"
   ]
  }
 ],
 "metadata": {
  "kernelspec": {
   "display_name": "Python 3",
   "language": "python",
   "name": "python3"
  },
  "language_info": {
   "codemirror_mode": {
    "name": "ipython",
    "version": 3
   },
   "file_extension": ".py",
   "mimetype": "text/x-python",
   "name": "python",
   "nbconvert_exporter": "python",
   "pygments_lexer": "ipython3",
   "version": "3.7.4"
  }
 },
 "nbformat": 4,
 "nbformat_minor": 2
}
