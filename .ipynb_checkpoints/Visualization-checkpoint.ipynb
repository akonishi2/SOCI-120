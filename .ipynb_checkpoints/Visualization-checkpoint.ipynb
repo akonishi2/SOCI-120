{
 "cells": [
  {
   "cell_type": "code",
   "execution_count": 24,
   "metadata": {},
   "outputs": [],
   "source": [
    "from final_model import *\n",
    "import matplotlib.pyplot as plt\n",
    "import numpy as np"
   ]
  },
  {
   "cell_type": "code",
   "execution_count": 25,
   "metadata": {},
   "outputs": [],
   "source": [
    "num_steps = 100\n",
    "model = NewModel(50, 50, 2125)\n",
    "for i in range(num_steps):\n",
    "    model.step()"
   ]
  },
  {
   "cell_type": "code",
   "execution_count": 26,
   "metadata": {},
   "outputs": [
    {
     "data": {
      "image/png": "[encoded data removed]",
      "text/plain": [
       "<Figure size 432x288 with 1 Axes>"
      ]
     },
     "metadata": {
      "needs_background": "light"
     },
     "output_type": "display_data"
    }
   ],
   "source": [
    "res_length_0 = [a.residence_length for a in model.schedule.agents if a.agent_type == 0]\n",
    "res_length_1 = [a.residence_length for a in model.schedule.agents if a.agent_type == 1]\n",
    "\n",
    "bins = np.linspace(-1, num_steps, 15)\n",
    "\n",
    "plt.hist(res_length_0, bins, alpha = 0.5, label = '0')\n",
    "plt.hist(res_length_1, bins, alpha = 0.5, label = '1')\n",
    "plt.legend(loc='upper right')\n",
    "plt.show()"
   ]
  },
  {
   "cell_type": "code",
   "execution_count": null,
   "metadata": {},
   "outputs": [],
   "source": []
  }
 ],
 "metadata": {
  "kernelspec": {
   "display_name": "Python 3",
   "language": "python",
   "name": "python3"
  },
  "language_info": {
   "codemirror_mode": {
    "name": "ipython",
    "version": 3
   },
   "file_extension": ".py",
   "mimetype": "text/x-python",
   "name": "python",
   "nbconvert_exporter": "python",
   "pygments_lexer": "ipython3",
   "version": "3.7.4"
  }
 },
 "nbformat": 4,
 "nbformat_minor": 2
}
